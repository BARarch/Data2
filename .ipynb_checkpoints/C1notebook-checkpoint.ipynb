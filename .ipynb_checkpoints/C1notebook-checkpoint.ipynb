{
 "cells": [
  {
   "cell_type": "code",
   "execution_count": 1,
   "metadata": {
    "collapsed": true
   },
   "outputs": [],
   "source": [
    "import numpy as np\n",
    "import pandas as pd\n",
    "import random as rand"
   ]
  },
  {
   "cell_type": "code",
   "execution_count": 2,
   "metadata": {
    "collapsed": true
   },
   "outputs": [],
   "source": [
    "def initGame(M, N):\n",
    "    game = []\n",
    "    for m in range(M):\n",
    "        if m == 0:\n",
    "            l = list(range(N,0,-1))\n",
    "        else:\n",
    "            l = []\n",
    "        game.append(l)\n",
    "    return game"
   ]
  },
  {
   "cell_type": "code",
   "execution_count": 3,
   "metadata": {
    "collapsed": true
   },
   "outputs": [],
   "source": [
    "def topPlate(tower):\n",
    "    try:\n",
    "        return tower[-1]\n",
    "    except IndexError:\n",
    "        return \"No Plate\""
   ]
  },
  {
   "cell_type": "code",
   "execution_count": 4,
   "metadata": {
    "collapsed": true
   },
   "outputs": [],
   "source": [
    "def isPossibleMove(depTower, arrTower):\n",
    "    '''Returns true if plate on the top of depTower can be move to the top of arrTower\n",
    "       Assumtions: DepTower and arrTower are adjacent.\n",
    "                   DepTower has a plate on it.\n",
    "    '''\n",
    "    if topPlate(arrTower) == 'No Plate':\n",
    "        return True\n",
    "    return topPlate(depTower) < topPlate(arrTower)\n",
    "        "
   ]
  },
  {
   "cell_type": "code",
   "execution_count": 5,
   "metadata": {
    "collapsed": true
   },
   "outputs": [],
   "source": [
    "def findPossibleMoves(stage):\n",
    "    '''Returns a list of all possibles moves of a stage of the Towers game.  Each move is a tupple of indexies of the \n",
    "       stage list (i,j) where i is the index of the departing tower and j is the index of the arrivale tower\n",
    "    \n",
    "    '''\n",
    "    moves = []\n",
    "    for i in range(len(stage)):\n",
    "        if not stage[i]:\n",
    "            continue\n",
    "        if i == 0:\n",
    "            if isPossibleMove(stage[i],stage[i+1]):\n",
    "                moves.append((stage[i],stage[i+1]))\n",
    "        elif i == len(stage) - 1:\n",
    "            if isPossibleMove(stage[i],stage[i-1]):\n",
    "                moves.append((stage[i],stage[i-1]))\n",
    "        else:\n",
    "            if isPossibleMove(stage[i],stage[i+1]):\n",
    "                moves.append((stage[i],stage[i+1]))\n",
    "            if isPossibleMove(stage[i],stage[i-1]):\n",
    "                moves.append((stage[i],stage[i-1]))\n",
    "    \n",
    "    return moves"
   ]
  },
  {
   "cell_type": "code",
   "execution_count": 6,
   "metadata": {
    "collapsed": true
   },
   "outputs": [],
   "source": [
    "def movePlate(move):\n",
    "    move[1].append(move[0].pop())"
   ]
  },
  {
   "cell_type": "code",
   "execution_count": 7,
   "metadata": {
    "collapsed": true
   },
   "outputs": [],
   "source": [
    "def centerOfMass(game):\n",
    "    moment = 0\n",
    "    towerNo = 0\n",
    "    mass = 0\n",
    "    for tower in game:\n",
    "        tot2 = 0\n",
    "        for plate in tower:\n",
    "            tot2 += plate\n",
    "            mass += plate\n",
    "        moment += tot2 * towerNo\n",
    "        towerNo += 1\n",
    "    return moment/mass"
   ]
  },
  {
   "cell_type": "code",
   "execution_count": 21,
   "metadata": {
    "collapsed": true
   },
   "outputs": [],
   "source": [
    "def playGame(game, rounds):\n",
    "    for i in range(rounds):\n",
    "        movePlate(rand.choice(findPossibleMoves(game)))\n",
    "        #print(game)\n",
    "    return centerOfMass(game)"
   ]
  },
  {
   "cell_type": "code",
   "execution_count": 25,
   "metadata": {},
   "outputs": [
    {
     "data": {
      "text/plain": [
       "1.6666666666666667"
      ]
     },
     "execution_count": 25,
     "metadata": {},
     "output_type": "execute_result"
    }
   ],
   "source": [
    "playGame(initGame(6, 6),256)"
   ]
  },
  {
   "cell_type": "code",
   "execution_count": 26,
   "metadata": {
    "collapsed": true
   },
   "outputs": [],
   "source": [
    "def playNGames(N,size,rounds):\n",
    "    cms = []\n",
    "    for i in range(N):\n",
    "        cms.append(playGame(initGame(size, size),rounds))\n",
    "    return cms\n",
    "        "
   ]
  },
  {
   "cell_type": "code",
   "execution_count": 74,
   "metadata": {},
   "outputs": [],
   "source": [
    "data = playNGames(2000,3,15)"
   ]
  },
  {
   "cell_type": "code",
   "execution_count": 75,
   "metadata": {},
   "outputs": [
    {
     "data": {
      "text/plain": [
       "0.45174999999999998"
      ]
     },
     "execution_count": 75,
     "metadata": {},
     "output_type": "execute_result"
    }
   ],
   "source": [
    "np.average(data)"
   ]
  },
  {
   "cell_type": "code",
   "execution_count": 76,
   "metadata": {},
   "outputs": [
    {
     "data": {
      "text/plain": [
       "0.45174999999999998"
      ]
     },
     "execution_count": 76,
     "metadata": {},
     "output_type": "execute_result"
    }
   ],
   "source": [
    "np.mean(data)"
   ]
  },
  {
   "cell_type": "code",
   "execution_count": 77,
   "metadata": {},
   "outputs": [
    {
     "data": {
      "text/plain": [
       "0.30081785509581116"
      ]
     },
     "execution_count": 77,
     "metadata": {},
     "output_type": "execute_result"
    }
   ],
   "source": [
    "np.std(data)"
   ]
  },
  {
   "cell_type": "code",
   "execution_count": null,
   "metadata": {
    "collapsed": true
   },
   "outputs": [],
   "source": []
  }
 ],
 "metadata": {
  "kernelspec": {
   "display_name": "Python 3",
   "language": "python",
   "name": "python3"
  },
  "language_info": {
   "codemirror_mode": {
    "name": "ipython",
    "version": 3
   },
   "file_extension": ".py",
   "mimetype": "text/x-python",
   "name": "python",
   "nbconvert_exporter": "python",
   "pygments_lexer": "ipython3",
   "version": "3.6.1"
  }
 },
 "nbformat": 4,
 "nbformat_minor": 2
}
